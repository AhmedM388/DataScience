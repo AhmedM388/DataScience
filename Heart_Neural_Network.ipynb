{
  "nbformat": 4,
  "nbformat_minor": 0,
  "metadata": {
    "colab": {
      "provenance": [],
      "gpuType": "T4"
    },
    "kernelspec": {
      "name": "python3",
      "display_name": "Python 3"
    },
    "language_info": {
      "name": "python"
    },
    "accelerator": "GPU"
  },
  "cells": [
    {
      "cell_type": "code",
      "execution_count": null,
      "metadata": {
        "id": "w830pD46Mbn-"
      },
      "outputs": [],
      "source": [
        "import numpy as np\n",
        "import pandas as pd\n",
        "import matplotlib.pyplot as plt\n",
        "import tensorflow as tf\n",
        "import seaborn as sns\n",
        "from sklearn.preprocessing import StandardScaler\n",
        "from sklearn.model_selection import train_test_split\n"
      ]
    },
    {
      "cell_type": "code",
      "source": [
        "heart_disease = pd.read_csv('heart_statlog_cleveland_hungary_final.csv')"
      ],
      "metadata": {
        "id": "OFFo1NnhM9gt"
      },
      "execution_count": null,
      "outputs": []
    },
    {
      "cell_type": "code",
      "source": [
        "heart_disease = heart_disease.drop(heart_disease[heart_disease['cholesterol']== 0].index)"
      ],
      "metadata": {
        "id": "6_ka27FbNkSd"
      },
      "execution_count": null,
      "outputs": []
    },
    {
      "cell_type": "code",
      "source": [
        "heart_disease"
      ],
      "metadata": {
        "colab": {
          "base_uri": "https://localhost:8080/",
          "height": 458
        },
        "id": "wzguvRFjNzJu",
        "outputId": "cd9d652c-2d06-454b-ccdb-b89e457d2250"
      },
      "execution_count": null,
      "outputs": [
        {
          "output_type": "execute_result",
          "data": {
            "text/plain": [
              "      age  sex  chest pain type  resting bp s  cholesterol  \\\n",
              "0      40    1                2           140          289   \n",
              "1      49    0                3           160          180   \n",
              "2      37    1                2           130          283   \n",
              "3      48    0                4           138          214   \n",
              "4      54    1                3           150          195   \n",
              "...   ...  ...              ...           ...          ...   \n",
              "1185   45    1                1           110          264   \n",
              "1186   68    1                4           144          193   \n",
              "1187   57    1                4           130          131   \n",
              "1188   57    0                2           130          236   \n",
              "1189   38    1                3           138          175   \n",
              "\n",
              "      fasting blood sugar  resting ecg  max heart rate  exercise angina  \\\n",
              "0                       0            0             172                0   \n",
              "1                       0            0             156                0   \n",
              "2                       0            1              98                0   \n",
              "3                       0            0             108                1   \n",
              "4                       0            0             122                0   \n",
              "...                   ...          ...             ...              ...   \n",
              "1185                    0            0             132                0   \n",
              "1186                    1            0             141                0   \n",
              "1187                    0            0             115                1   \n",
              "1188                    0            2             174                0   \n",
              "1189                    0            0             173                0   \n",
              "\n",
              "      oldpeak  ST slope  target  \n",
              "0         0.0         1       0  \n",
              "1         1.0         2       1  \n",
              "2         0.0         1       0  \n",
              "3         1.5         2       1  \n",
              "4         0.0         1       0  \n",
              "...       ...       ...     ...  \n",
              "1185      1.2         2       1  \n",
              "1186      3.4         2       1  \n",
              "1187      1.2         2       1  \n",
              "1188      0.0         2       1  \n",
              "1189      0.0         1       0  \n",
              "\n",
              "[1018 rows x 12 columns]"
            ],
            "text/html": [
              "\n",
              "  <div id=\"df-fabb89ca-dbae-4443-b504-c5c73d989cdb\" class=\"colab-df-container\">\n",
              "    <div>\n",
              "<style scoped>\n",
              "    .dataframe tbody tr th:only-of-type {\n",
              "        vertical-align: middle;\n",
              "    }\n",
              "\n",
              "    .dataframe tbody tr th {\n",
              "        vertical-align: top;\n",
              "    }\n",
              "\n",
              "    .dataframe thead th {\n",
              "        text-align: right;\n",
              "    }\n",
              "</style>\n",
              "<table border=\"1\" class=\"dataframe\">\n",
              "  <thead>\n",
              "    <tr style=\"text-align: right;\">\n",
              "      <th></th>\n",
              "      <th>age</th>\n",
              "      <th>sex</th>\n",
              "      <th>chest pain type</th>\n",
              "      <th>resting bp s</th>\n",
              "      <th>cholesterol</th>\n",
              "      <th>fasting blood sugar</th>\n",
              "      <th>resting ecg</th>\n",
              "      <th>max heart rate</th>\n",
              "      <th>exercise angina</th>\n",
              "      <th>oldpeak</th>\n",
              "      <th>ST slope</th>\n",
              "      <th>target</th>\n",
              "    </tr>\n",
              "  </thead>\n",
              "  <tbody>\n",
              "    <tr>\n",
              "      <th>0</th>\n",
              "      <td>40</td>\n",
              "      <td>1</td>\n",
              "      <td>2</td>\n",
              "      <td>140</td>\n",
              "      <td>289</td>\n",
              "      <td>0</td>\n",
              "      <td>0</td>\n",
              "      <td>172</td>\n",
              "      <td>0</td>\n",
              "      <td>0.0</td>\n",
              "      <td>1</td>\n",
              "      <td>0</td>\n",
              "    </tr>\n",
              "    <tr>\n",
              "      <th>1</th>\n",
              "      <td>49</td>\n",
              "      <td>0</td>\n",
              "      <td>3</td>\n",
              "      <td>160</td>\n",
              "      <td>180</td>\n",
              "      <td>0</td>\n",
              "      <td>0</td>\n",
              "      <td>156</td>\n",
              "      <td>0</td>\n",
              "      <td>1.0</td>\n",
              "      <td>2</td>\n",
              "      <td>1</td>\n",
              "    </tr>\n",
              "    <tr>\n",
              "      <th>2</th>\n",
              "      <td>37</td>\n",
              "      <td>1</td>\n",
              "      <td>2</td>\n",
              "      <td>130</td>\n",
              "      <td>283</td>\n",
              "      <td>0</td>\n",
              "      <td>1</td>\n",
              "      <td>98</td>\n",
              "      <td>0</td>\n",
              "      <td>0.0</td>\n",
              "      <td>1</td>\n",
              "      <td>0</td>\n",
              "    </tr>\n",
              "    <tr>\n",
              "      <th>3</th>\n",
              "      <td>48</td>\n",
              "      <td>0</td>\n",
              "      <td>4</td>\n",
              "      <td>138</td>\n",
              "      <td>214</td>\n",
              "      <td>0</td>\n",
              "      <td>0</td>\n",
              "      <td>108</td>\n",
              "      <td>1</td>\n",
              "      <td>1.5</td>\n",
              "      <td>2</td>\n",
              "      <td>1</td>\n",
              "    </tr>\n",
              "    <tr>\n",
              "      <th>4</th>\n",
              "      <td>54</td>\n",
              "      <td>1</td>\n",
              "      <td>3</td>\n",
              "      <td>150</td>\n",
              "      <td>195</td>\n",
              "      <td>0</td>\n",
              "      <td>0</td>\n",
              "      <td>122</td>\n",
              "      <td>0</td>\n",
              "      <td>0.0</td>\n",
              "      <td>1</td>\n",
              "      <td>0</td>\n",
              "    </tr>\n",
              "    <tr>\n",
              "      <th>...</th>\n",
              "      <td>...</td>\n",
              "      <td>...</td>\n",
              "      <td>...</td>\n",
              "      <td>...</td>\n",
              "      <td>...</td>\n",
              "      <td>...</td>\n",
              "      <td>...</td>\n",
              "      <td>...</td>\n",
              "      <td>...</td>\n",
              "      <td>...</td>\n",
              "      <td>...</td>\n",
              "      <td>...</td>\n",
              "    </tr>\n",
              "    <tr>\n",
              "      <th>1185</th>\n",
              "      <td>45</td>\n",
              "      <td>1</td>\n",
              "      <td>1</td>\n",
              "      <td>110</td>\n",
              "      <td>264</td>\n",
              "      <td>0</td>\n",
              "      <td>0</td>\n",
              "      <td>132</td>\n",
              "      <td>0</td>\n",
              "      <td>1.2</td>\n",
              "      <td>2</td>\n",
              "      <td>1</td>\n",
              "    </tr>\n",
              "    <tr>\n",
              "      <th>1186</th>\n",
              "      <td>68</td>\n",
              "      <td>1</td>\n",
              "      <td>4</td>\n",
              "      <td>144</td>\n",
              "      <td>193</td>\n",
              "      <td>1</td>\n",
              "      <td>0</td>\n",
              "      <td>141</td>\n",
              "      <td>0</td>\n",
              "      <td>3.4</td>\n",
              "      <td>2</td>\n",
              "      <td>1</td>\n",
              "    </tr>\n",
              "    <tr>\n",
              "      <th>1187</th>\n",
              "      <td>57</td>\n",
              "      <td>1</td>\n",
              "      <td>4</td>\n",
              "      <td>130</td>\n",
              "      <td>131</td>\n",
              "      <td>0</td>\n",
              "      <td>0</td>\n",
              "      <td>115</td>\n",
              "      <td>1</td>\n",
              "      <td>1.2</td>\n",
              "      <td>2</td>\n",
              "      <td>1</td>\n",
              "    </tr>\n",
              "    <tr>\n",
              "      <th>1188</th>\n",
              "      <td>57</td>\n",
              "      <td>0</td>\n",
              "      <td>2</td>\n",
              "      <td>130</td>\n",
              "      <td>236</td>\n",
              "      <td>0</td>\n",
              "      <td>2</td>\n",
              "      <td>174</td>\n",
              "      <td>0</td>\n",
              "      <td>0.0</td>\n",
              "      <td>2</td>\n",
              "      <td>1</td>\n",
              "    </tr>\n",
              "    <tr>\n",
              "      <th>1189</th>\n",
              "      <td>38</td>\n",
              "      <td>1</td>\n",
              "      <td>3</td>\n",
              "      <td>138</td>\n",
              "      <td>175</td>\n",
              "      <td>0</td>\n",
              "      <td>0</td>\n",
              "      <td>173</td>\n",
              "      <td>0</td>\n",
              "      <td>0.0</td>\n",
              "      <td>1</td>\n",
              "      <td>0</td>\n",
              "    </tr>\n",
              "  </tbody>\n",
              "</table>\n",
              "<p>1018 rows × 12 columns</p>\n",
              "</div>\n",
              "    <div class=\"colab-df-buttons\">\n",
              "\n",
              "  <div class=\"colab-df-container\">\n",
              "    <button class=\"colab-df-convert\" onclick=\"convertToInteractive('df-fabb89ca-dbae-4443-b504-c5c73d989cdb')\"\n",
              "            title=\"Convert this dataframe to an interactive table.\"\n",
              "            style=\"display:none;\">\n",
              "\n",
              "  <svg xmlns=\"http://www.w3.org/2000/svg\" height=\"24px\" viewBox=\"0 -960 960 960\">\n",
              "    <path d=\"M120-120v-720h720v720H120Zm60-500h600v-160H180v160Zm220 220h160v-160H400v160Zm0 220h160v-160H400v160ZM180-400h160v-160H180v160Zm440 0h160v-160H620v160ZM180-180h160v-160H180v160Zm440 0h160v-160H620v160Z\"/>\n",
              "  </svg>\n",
              "    </button>\n",
              "\n",
              "  <style>\n",
              "    .colab-df-container {\n",
              "      display:flex;\n",
              "      gap: 12px;\n",
              "    }\n",
              "\n",
              "    .colab-df-convert {\n",
              "      background-color: #E8F0FE;\n",
              "      border: none;\n",
              "      border-radius: 50%;\n",
              "      cursor: pointer;\n",
              "      display: none;\n",
              "      fill: #1967D2;\n",
              "      height: 32px;\n",
              "      padding: 0 0 0 0;\n",
              "      width: 32px;\n",
              "    }\n",
              "\n",
              "    .colab-df-convert:hover {\n",
              "      background-color: #E2EBFA;\n",
              "      box-shadow: 0px 1px 2px rgba(60, 64, 67, 0.3), 0px 1px 3px 1px rgba(60, 64, 67, 0.15);\n",
              "      fill: #174EA6;\n",
              "    }\n",
              "\n",
              "    .colab-df-buttons div {\n",
              "      margin-bottom: 4px;\n",
              "    }\n",
              "\n",
              "    [theme=dark] .colab-df-convert {\n",
              "      background-color: #3B4455;\n",
              "      fill: #D2E3FC;\n",
              "    }\n",
              "\n",
              "    [theme=dark] .colab-df-convert:hover {\n",
              "      background-color: #434B5C;\n",
              "      box-shadow: 0px 1px 3px 1px rgba(0, 0, 0, 0.15);\n",
              "      filter: drop-shadow(0px 1px 2px rgba(0, 0, 0, 0.3));\n",
              "      fill: #FFFFFF;\n",
              "    }\n",
              "  </style>\n",
              "\n",
              "    <script>\n",
              "      const buttonEl =\n",
              "        document.querySelector('#df-fabb89ca-dbae-4443-b504-c5c73d989cdb button.colab-df-convert');\n",
              "      buttonEl.style.display =\n",
              "        google.colab.kernel.accessAllowed ? 'block' : 'none';\n",
              "\n",
              "      async function convertToInteractive(key) {\n",
              "        const element = document.querySelector('#df-fabb89ca-dbae-4443-b504-c5c73d989cdb');\n",
              "        const dataTable =\n",
              "          await google.colab.kernel.invokeFunction('convertToInteractive',\n",
              "                                                    [key], {});\n",
              "        if (!dataTable) return;\n",
              "\n",
              "        const docLinkHtml = 'Like what you see? Visit the ' +\n",
              "          '<a target=\"_blank\" href=https://colab.research.google.com/notebooks/data_table.ipynb>data table notebook</a>'\n",
              "          + ' to learn more about interactive tables.';\n",
              "        element.innerHTML = '';\n",
              "        dataTable['output_type'] = 'display_data';\n",
              "        await google.colab.output.renderOutput(dataTable, element);\n",
              "        const docLink = document.createElement('div');\n",
              "        docLink.innerHTML = docLinkHtml;\n",
              "        element.appendChild(docLink);\n",
              "      }\n",
              "    </script>\n",
              "  </div>\n",
              "\n",
              "\n",
              "<div id=\"df-794ac926-5963-48f0-adb3-d3ccd2831c0c\">\n",
              "  <button class=\"colab-df-quickchart\" onclick=\"quickchart('df-794ac926-5963-48f0-adb3-d3ccd2831c0c')\"\n",
              "            title=\"Suggest charts\"\n",
              "            style=\"display:none;\">\n",
              "\n",
              "<svg xmlns=\"http://www.w3.org/2000/svg\" height=\"24px\"viewBox=\"0 0 24 24\"\n",
              "     width=\"24px\">\n",
              "    <g>\n",
              "        <path d=\"M19 3H5c-1.1 0-2 .9-2 2v14c0 1.1.9 2 2 2h14c1.1 0 2-.9 2-2V5c0-1.1-.9-2-2-2zM9 17H7v-7h2v7zm4 0h-2V7h2v10zm4 0h-2v-4h2v4z\"/>\n",
              "    </g>\n",
              "</svg>\n",
              "  </button>\n",
              "\n",
              "<style>\n",
              "  .colab-df-quickchart {\n",
              "      --bg-color: #E8F0FE;\n",
              "      --fill-color: #1967D2;\n",
              "      --hover-bg-color: #E2EBFA;\n",
              "      --hover-fill-color: #174EA6;\n",
              "      --disabled-fill-color: #AAA;\n",
              "      --disabled-bg-color: #DDD;\n",
              "  }\n",
              "\n",
              "  [theme=dark] .colab-df-quickchart {\n",
              "      --bg-color: #3B4455;\n",
              "      --fill-color: #D2E3FC;\n",
              "      --hover-bg-color: #434B5C;\n",
              "      --hover-fill-color: #FFFFFF;\n",
              "      --disabled-bg-color: #3B4455;\n",
              "      --disabled-fill-color: #666;\n",
              "  }\n",
              "\n",
              "  .colab-df-quickchart {\n",
              "    background-color: var(--bg-color);\n",
              "    border: none;\n",
              "    border-radius: 50%;\n",
              "    cursor: pointer;\n",
              "    display: none;\n",
              "    fill: var(--fill-color);\n",
              "    height: 32px;\n",
              "    padding: 0;\n",
              "    width: 32px;\n",
              "  }\n",
              "\n",
              "  .colab-df-quickchart:hover {\n",
              "    background-color: var(--hover-bg-color);\n",
              "    box-shadow: 0 1px 2px rgba(60, 64, 67, 0.3), 0 1px 3px 1px rgba(60, 64, 67, 0.15);\n",
              "    fill: var(--button-hover-fill-color);\n",
              "  }\n",
              "\n",
              "  .colab-df-quickchart-complete:disabled,\n",
              "  .colab-df-quickchart-complete:disabled:hover {\n",
              "    background-color: var(--disabled-bg-color);\n",
              "    fill: var(--disabled-fill-color);\n",
              "    box-shadow: none;\n",
              "  }\n",
              "\n",
              "  .colab-df-spinner {\n",
              "    border: 2px solid var(--fill-color);\n",
              "    border-color: transparent;\n",
              "    border-bottom-color: var(--fill-color);\n",
              "    animation:\n",
              "      spin 1s steps(1) infinite;\n",
              "  }\n",
              "\n",
              "  @keyframes spin {\n",
              "    0% {\n",
              "      border-color: transparent;\n",
              "      border-bottom-color: var(--fill-color);\n",
              "      border-left-color: var(--fill-color);\n",
              "    }\n",
              "    20% {\n",
              "      border-color: transparent;\n",
              "      border-left-color: var(--fill-color);\n",
              "      border-top-color: var(--fill-color);\n",
              "    }\n",
              "    30% {\n",
              "      border-color: transparent;\n",
              "      border-left-color: var(--fill-color);\n",
              "      border-top-color: var(--fill-color);\n",
              "      border-right-color: var(--fill-color);\n",
              "    }\n",
              "    40% {\n",
              "      border-color: transparent;\n",
              "      border-right-color: var(--fill-color);\n",
              "      border-top-color: var(--fill-color);\n",
              "    }\n",
              "    60% {\n",
              "      border-color: transparent;\n",
              "      border-right-color: var(--fill-color);\n",
              "    }\n",
              "    80% {\n",
              "      border-color: transparent;\n",
              "      border-right-color: var(--fill-color);\n",
              "      border-bottom-color: var(--fill-color);\n",
              "    }\n",
              "    90% {\n",
              "      border-color: transparent;\n",
              "      border-bottom-color: var(--fill-color);\n",
              "    }\n",
              "  }\n",
              "</style>\n",
              "\n",
              "  <script>\n",
              "    async function quickchart(key) {\n",
              "      const quickchartButtonEl =\n",
              "        document.querySelector('#' + key + ' button');\n",
              "      quickchartButtonEl.disabled = true;  // To prevent multiple clicks.\n",
              "      quickchartButtonEl.classList.add('colab-df-spinner');\n",
              "      try {\n",
              "        const charts = await google.colab.kernel.invokeFunction(\n",
              "            'suggestCharts', [key], {});\n",
              "      } catch (error) {\n",
              "        console.error('Error during call to suggestCharts:', error);\n",
              "      }\n",
              "      quickchartButtonEl.classList.remove('colab-df-spinner');\n",
              "      quickchartButtonEl.classList.add('colab-df-quickchart-complete');\n",
              "    }\n",
              "    (() => {\n",
              "      let quickchartButtonEl =\n",
              "        document.querySelector('#df-794ac926-5963-48f0-adb3-d3ccd2831c0c button');\n",
              "      quickchartButtonEl.style.display =\n",
              "        google.colab.kernel.accessAllowed ? 'block' : 'none';\n",
              "    })();\n",
              "  </script>\n",
              "</div>\n",
              "    </div>\n",
              "  </div>\n"
            ]
          },
          "metadata": {},
          "execution_count": 6
        }
      ]
    },
    {
      "cell_type": "code",
      "source": [
        "HD_dependent = heart_disease.iloc[:,:-1]\n",
        "target = heart_disease.iloc[:,-1]\n",
        "X_train, X_test, y_train, y_test = train_test_split(HD_dependent, target,test_size=0.2, random_state=0, stratify=target)\n",
        "SC = StandardScaler()\n",
        "X_train_scaled = SC.fit_transform(X_train)\n",
        "X_test_scaled = SC.transform(X_test)"
      ],
      "metadata": {
        "id": "ewC_Ats3N2NB"
      },
      "execution_count": null,
      "outputs": []
    },
    {
      "cell_type": "code",
      "source": [
        "neural_network = tf.keras.models.Sequential()\n",
        "neural_network.add(tf.keras.layers.Dense(9,activation='relu',input_shape=(11,)))\n",
        "neural_network.add(tf.keras.layers.Dense(1,activation='sigmoid'))"
      ],
      "metadata": {
        "id": "F5Sku7vOP1KX"
      },
      "execution_count": null,
      "outputs": []
    },
    {
      "cell_type": "code",
      "source": [
        "neural_network.compile(optimizer='adam',loss='binary_crossentropy',metrics='binary_accuracy')"
      ],
      "metadata": {
        "id": "KjmW5ImbQrCm"
      },
      "execution_count": null,
      "outputs": []
    },
    {
      "cell_type": "code",
      "source": [
        "neural_network.summary()"
      ],
      "metadata": {
        "colab": {
          "base_uri": "https://localhost:8080/"
        },
        "id": "OCoix3hJQslJ",
        "outputId": "61f54c42-1826-4b3b-fdc8-bd0cd1cb211e"
      },
      "execution_count": null,
      "outputs": [
        {
          "output_type": "stream",
          "name": "stdout",
          "text": [
            "Model: \"sequential\"\n",
            "_________________________________________________________________\n",
            " Layer (type)                Output Shape              Param #   \n",
            "=================================================================\n",
            " dense (Dense)               (None, 9)                 108       \n",
            "                                                                 \n",
            " dense_1 (Dense)             (None, 1)                 10        \n",
            "                                                                 \n",
            "=================================================================\n",
            "Total params: 118 (472.00 Byte)\n",
            "Trainable params: 118 (472.00 Byte)\n",
            "Non-trainable params: 0 (0.00 Byte)\n",
            "_________________________________________________________________\n"
          ]
        }
      ]
    },
    {
      "cell_type": "code",
      "source": [
        "history = neural_network.fit(X_train_scaled, y_train, \\\n",
        "                    batch_size = 50, epochs= 50, \\\n",
        "                    verbose=2, \\\n",
        "                    validation_split=0.2)"
      ],
      "metadata": {
        "colab": {
          "base_uri": "https://localhost:8080/"
        },
        "id": "GG7Nf3WrQ43g",
        "outputId": "0103877e-ebe1-4b74-b118-593c08326e55"
      },
      "execution_count": null,
      "outputs": [
        {
          "output_type": "stream",
          "name": "stdout",
          "text": [
            "Epoch 1/50\n",
            "14/14 - 6s - loss: 0.6283 - binary_accuracy: 0.6743 - val_loss: 0.6027 - val_binary_accuracy: 0.6871 - 6s/epoch - 407ms/step\n",
            "Epoch 2/50\n",
            "14/14 - 0s - loss: 0.5921 - binary_accuracy: 0.7112 - val_loss: 0.5612 - val_binary_accuracy: 0.7301 - 80ms/epoch - 6ms/step\n",
            "Epoch 3/50\n",
            "14/14 - 0s - loss: 0.5637 - binary_accuracy: 0.7296 - val_loss: 0.5327 - val_binary_accuracy: 0.7362 - 80ms/epoch - 6ms/step\n",
            "Epoch 4/50\n",
            "14/14 - 0s - loss: 0.5409 - binary_accuracy: 0.7527 - val_loss: 0.5079 - val_binary_accuracy: 0.7607 - 65ms/epoch - 5ms/step\n",
            "Epoch 5/50\n",
            "14/14 - 0s - loss: 0.5230 - binary_accuracy: 0.7650 - val_loss: 0.4906 - val_binary_accuracy: 0.7669 - 67ms/epoch - 5ms/step\n",
            "Epoch 6/50\n",
            "14/14 - 0s - loss: 0.5085 - binary_accuracy: 0.7696 - val_loss: 0.4735 - val_binary_accuracy: 0.7791 - 72ms/epoch - 5ms/step\n",
            "Epoch 7/50\n",
            "14/14 - 0s - loss: 0.4950 - binary_accuracy: 0.7819 - val_loss: 0.4598 - val_binary_accuracy: 0.7853 - 88ms/epoch - 6ms/step\n",
            "Epoch 8/50\n",
            "14/14 - 0s - loss: 0.4841 - binary_accuracy: 0.7819 - val_loss: 0.4503 - val_binary_accuracy: 0.7975 - 64ms/epoch - 5ms/step\n",
            "Epoch 9/50\n",
            "14/14 - 0s - loss: 0.4743 - binary_accuracy: 0.7834 - val_loss: 0.4417 - val_binary_accuracy: 0.7975 - 86ms/epoch - 6ms/step\n",
            "Epoch 10/50\n",
            "14/14 - 0s - loss: 0.4658 - binary_accuracy: 0.7849 - val_loss: 0.4339 - val_binary_accuracy: 0.7975 - 69ms/epoch - 5ms/step\n",
            "Epoch 11/50\n",
            "14/14 - 0s - loss: 0.4582 - binary_accuracy: 0.7926 - val_loss: 0.4262 - val_binary_accuracy: 0.7975 - 66ms/epoch - 5ms/step\n",
            "Epoch 12/50\n",
            "14/14 - 0s - loss: 0.4521 - binary_accuracy: 0.7972 - val_loss: 0.4238 - val_binary_accuracy: 0.7914 - 69ms/epoch - 5ms/step\n",
            "Epoch 13/50\n",
            "14/14 - 0s - loss: 0.4465 - binary_accuracy: 0.7988 - val_loss: 0.4175 - val_binary_accuracy: 0.7975 - 74ms/epoch - 5ms/step\n",
            "Epoch 14/50\n",
            "14/14 - 0s - loss: 0.4410 - binary_accuracy: 0.7988 - val_loss: 0.4130 - val_binary_accuracy: 0.8037 - 68ms/epoch - 5ms/step\n",
            "Epoch 15/50\n",
            "14/14 - 0s - loss: 0.4361 - binary_accuracy: 0.8018 - val_loss: 0.4088 - val_binary_accuracy: 0.8160 - 71ms/epoch - 5ms/step\n",
            "Epoch 16/50\n",
            "14/14 - 0s - loss: 0.4315 - binary_accuracy: 0.8018 - val_loss: 0.4052 - val_binary_accuracy: 0.8160 - 86ms/epoch - 6ms/step\n",
            "Epoch 17/50\n",
            "14/14 - 0s - loss: 0.4272 - binary_accuracy: 0.8034 - val_loss: 0.4012 - val_binary_accuracy: 0.8160 - 82ms/epoch - 6ms/step\n",
            "Epoch 18/50\n",
            "14/14 - 0s - loss: 0.4234 - binary_accuracy: 0.8065 - val_loss: 0.3980 - val_binary_accuracy: 0.8160 - 87ms/epoch - 6ms/step\n",
            "Epoch 19/50\n",
            "14/14 - 0s - loss: 0.4203 - binary_accuracy: 0.8095 - val_loss: 0.3956 - val_binary_accuracy: 0.8160 - 77ms/epoch - 5ms/step\n",
            "Epoch 20/50\n",
            "14/14 - 0s - loss: 0.4177 - binary_accuracy: 0.8141 - val_loss: 0.3942 - val_binary_accuracy: 0.8098 - 79ms/epoch - 6ms/step\n",
            "Epoch 21/50\n",
            "14/14 - 0s - loss: 0.4147 - binary_accuracy: 0.8157 - val_loss: 0.3928 - val_binary_accuracy: 0.8160 - 67ms/epoch - 5ms/step\n",
            "Epoch 22/50\n",
            "14/14 - 0s - loss: 0.4119 - binary_accuracy: 0.8203 - val_loss: 0.3914 - val_binary_accuracy: 0.8160 - 77ms/epoch - 5ms/step\n",
            "Epoch 23/50\n",
            "14/14 - 0s - loss: 0.4091 - binary_accuracy: 0.8203 - val_loss: 0.3902 - val_binary_accuracy: 0.8160 - 82ms/epoch - 6ms/step\n",
            "Epoch 24/50\n",
            "14/14 - 0s - loss: 0.4066 - binary_accuracy: 0.8233 - val_loss: 0.3895 - val_binary_accuracy: 0.8160 - 83ms/epoch - 6ms/step\n",
            "Epoch 25/50\n",
            "14/14 - 0s - loss: 0.4046 - binary_accuracy: 0.8233 - val_loss: 0.3892 - val_binary_accuracy: 0.8160 - 82ms/epoch - 6ms/step\n",
            "Epoch 26/50\n",
            "14/14 - 0s - loss: 0.4027 - binary_accuracy: 0.8249 - val_loss: 0.3879 - val_binary_accuracy: 0.8282 - 70ms/epoch - 5ms/step\n",
            "Epoch 27/50\n",
            "14/14 - 0s - loss: 0.4012 - binary_accuracy: 0.8249 - val_loss: 0.3867 - val_binary_accuracy: 0.8221 - 79ms/epoch - 6ms/step\n",
            "Epoch 28/50\n",
            "14/14 - 0s - loss: 0.3996 - binary_accuracy: 0.8264 - val_loss: 0.3852 - val_binary_accuracy: 0.8221 - 79ms/epoch - 6ms/step\n",
            "Epoch 29/50\n",
            "14/14 - 0s - loss: 0.3979 - binary_accuracy: 0.8233 - val_loss: 0.3827 - val_binary_accuracy: 0.8282 - 74ms/epoch - 5ms/step\n",
            "Epoch 30/50\n",
            "14/14 - 0s - loss: 0.3961 - binary_accuracy: 0.8233 - val_loss: 0.3819 - val_binary_accuracy: 0.8282 - 66ms/epoch - 5ms/step\n",
            "Epoch 31/50\n",
            "14/14 - 0s - loss: 0.3943 - binary_accuracy: 0.8280 - val_loss: 0.3810 - val_binary_accuracy: 0.8282 - 67ms/epoch - 5ms/step\n",
            "Epoch 32/50\n",
            "14/14 - 0s - loss: 0.3925 - binary_accuracy: 0.8264 - val_loss: 0.3797 - val_binary_accuracy: 0.8282 - 85ms/epoch - 6ms/step\n",
            "Epoch 33/50\n",
            "14/14 - 0s - loss: 0.3907 - binary_accuracy: 0.8295 - val_loss: 0.3793 - val_binary_accuracy: 0.8282 - 73ms/epoch - 5ms/step\n",
            "Epoch 34/50\n",
            "14/14 - 0s - loss: 0.3892 - binary_accuracy: 0.8326 - val_loss: 0.3785 - val_binary_accuracy: 0.8344 - 66ms/epoch - 5ms/step\n",
            "Epoch 35/50\n",
            "14/14 - 0s - loss: 0.3877 - binary_accuracy: 0.8341 - val_loss: 0.3778 - val_binary_accuracy: 0.8344 - 64ms/epoch - 5ms/step\n",
            "Epoch 36/50\n",
            "14/14 - 0s - loss: 0.3863 - binary_accuracy: 0.8341 - val_loss: 0.3772 - val_binary_accuracy: 0.8344 - 69ms/epoch - 5ms/step\n",
            "Epoch 37/50\n",
            "14/14 - 0s - loss: 0.3850 - binary_accuracy: 0.8341 - val_loss: 0.3765 - val_binary_accuracy: 0.8344 - 68ms/epoch - 5ms/step\n",
            "Epoch 38/50\n",
            "14/14 - 0s - loss: 0.3841 - binary_accuracy: 0.8341 - val_loss: 0.3749 - val_binary_accuracy: 0.8344 - 65ms/epoch - 5ms/step\n",
            "Epoch 39/50\n",
            "14/14 - 0s - loss: 0.3830 - binary_accuracy: 0.8341 - val_loss: 0.3751 - val_binary_accuracy: 0.8344 - 69ms/epoch - 5ms/step\n",
            "Epoch 40/50\n",
            "14/14 - 0s - loss: 0.3821 - binary_accuracy: 0.8372 - val_loss: 0.3763 - val_binary_accuracy: 0.8282 - 68ms/epoch - 5ms/step\n",
            "Epoch 41/50\n",
            "14/14 - 0s - loss: 0.3812 - binary_accuracy: 0.8387 - val_loss: 0.3771 - val_binary_accuracy: 0.8282 - 70ms/epoch - 5ms/step\n",
            "Epoch 42/50\n",
            "14/14 - 0s - loss: 0.3804 - binary_accuracy: 0.8387 - val_loss: 0.3770 - val_binary_accuracy: 0.8282 - 66ms/epoch - 5ms/step\n",
            "Epoch 43/50\n",
            "14/14 - 0s - loss: 0.3794 - binary_accuracy: 0.8387 - val_loss: 0.3764 - val_binary_accuracy: 0.8282 - 80ms/epoch - 6ms/step\n",
            "Epoch 44/50\n",
            "14/14 - 0s - loss: 0.3783 - binary_accuracy: 0.8387 - val_loss: 0.3759 - val_binary_accuracy: 0.8282 - 79ms/epoch - 6ms/step\n",
            "Epoch 45/50\n",
            "14/14 - 0s - loss: 0.3772 - binary_accuracy: 0.8387 - val_loss: 0.3755 - val_binary_accuracy: 0.8282 - 84ms/epoch - 6ms/step\n",
            "Epoch 46/50\n",
            "14/14 - 0s - loss: 0.3762 - binary_accuracy: 0.8387 - val_loss: 0.3771 - val_binary_accuracy: 0.8282 - 71ms/epoch - 5ms/step\n",
            "Epoch 47/50\n",
            "14/14 - 0s - loss: 0.3753 - binary_accuracy: 0.8372 - val_loss: 0.3774 - val_binary_accuracy: 0.8344 - 79ms/epoch - 6ms/step\n",
            "Epoch 48/50\n",
            "14/14 - 0s - loss: 0.3746 - binary_accuracy: 0.8356 - val_loss: 0.3784 - val_binary_accuracy: 0.8282 - 65ms/epoch - 5ms/step\n",
            "Epoch 49/50\n",
            "14/14 - 0s - loss: 0.3737 - binary_accuracy: 0.8387 - val_loss: 0.3770 - val_binary_accuracy: 0.8221 - 80ms/epoch - 6ms/step\n",
            "Epoch 50/50\n",
            "14/14 - 0s - loss: 0.3727 - binary_accuracy: 0.8341 - val_loss: 0.3762 - val_binary_accuracy: 0.8282 - 142ms/epoch - 10ms/step\n"
          ]
        }
      ]
    },
    {
      "cell_type": "code",
      "source": [
        "accuracy = history.history['binary_accuracy']\n",
        "validation_accuracy = history.history['val_binary_accuracy']\n",
        "plt.plot(accuracy, label='Training Set Accuracy')\n",
        "plt.plot(validation_accuracy, label='Validation Set Accuracy')\n",
        "plt.ylabel('Accuracy')\n",
        "plt.ylim([min(plt.ylim()),1])\n",
        "plt.title('Training and Validation Accuracy Across Epochs')\n",
        "plt.legend()"
      ],
      "metadata": {
        "colab": {
          "base_uri": "https://localhost:8080/",
          "height": 469
        },
        "id": "u_C4xqnZRv06",
        "outputId": "1623062e-9a80-4d43-e8e9-9b0196a632f5"
      },
      "execution_count": null,
      "outputs": [
        {
          "output_type": "execute_result",
          "data": {
            "text/plain": [
              "<matplotlib.legend.Legend at 0x7d93381943a0>"
            ]
          },
          "metadata": {},
          "execution_count": 17
        },
        {
          "output_type": "display_data",
          "data": {
            "text/plain": [
              "<Figure size 640x480 with 1 Axes>"
            ],
            "image/png": "[encoded data removed]"
          },
          "metadata": {}
        }
      ]
    },
    {
      "cell_type": "code",
      "source": [
        "loss = history.history['loss']\n",
        "validation_loss = history.history['val_loss']\n",
        "plt.plot(loss, label='Training Set Loss')\n",
        "plt.plot(validation_loss, label='Validation Set Loss')\n",
        "plt.ylabel('Loss')\n",
        "plt.title('Training and Validation Loss Across Epochs')\n",
        "plt.legend()"
      ],
      "metadata": {
        "colab": {
          "base_uri": "https://localhost:8080/",
          "height": 469
        },
        "id": "mIMWxn_BSPQJ",
        "outputId": "123a217b-1847-4fdb-f880-b4a7b32457a3"
      },
      "execution_count": null,
      "outputs": [
        {
          "output_type": "execute_result",
          "data": {
            "text/plain": [
              "<matplotlib.legend.Legend at 0x7d92d27ba290>"
            ]
          },
          "metadata": {},
          "execution_count": 18
        },
        {
          "output_type": "display_data",
          "data": {
            "text/plain": [
              "<Figure size 640x480 with 1 Axes>"
            ],
            "image/png": "[encoded data removed]"
          },
          "metadata": {}
        }
      ]
    },
    {
      "cell_type": "code",
      "source": [
        "from sklearn.metrics import confusion_matrix, classification_report\n",
        "y_pred = neural_network.predict(X_test_scaled)\n",
        "\n",
        "y_pred = np.round(y_pred)\n",
        "\n",
        "confusion_matrix = confusion_matrix(y_test,y_pred)\n",
        "ax = sns.heatmap(confusion_matrix, cmap='flare',annot=True, fmt='d')\n",
        "plt.xlabel(\"Predicted Class\",fontsize=12)\n",
        "plt.ylabel(\"True Class\",fontsize=12)\n",
        "plt.title(\"Confusion Matrix\",fontsize=12)\n",
        "plt.show()"
      ],
      "metadata": {
        "colab": {
          "base_uri": "https://localhost:8080/",
          "height": 493
        },
        "id": "vYznRZcqSloO",
        "outputId": "639da4de-32ad-4c1f-8397-4a973fbf6cec"
      },
      "execution_count": null,
      "outputs": [
        {
          "output_type": "stream",
          "name": "stdout",
          "text": [
            "7/7 [==============================] - 0s 2ms/step\n"
          ]
        },
        {
          "output_type": "display_data",
          "data": {
            "text/plain": [
              "<Figure size 640x480 with 2 Axes>"
            ],
            "image/png": "[encoded data removed]"
          },
          "metadata": {}
        }
      ]
    },
    {
      "cell_type": "code",
      "source": [
        "print(classification_report(y_test,y_pred))"
      ],
      "metadata": {
        "colab": {
          "base_uri": "https://localhost:8080/"
        },
        "id": "II7qI72-ZDvv",
        "outputId": "97b12ea7-1f94-40cc-bd84-5e3199c95045"
      },
      "execution_count": null,
      "outputs": [
        {
          "output_type": "stream",
          "name": "stdout",
          "text": [
            "              precision    recall  f1-score   support\n",
            "\n",
            "           0       0.81      0.92      0.86       108\n",
            "           1       0.89      0.76      0.82        96\n",
            "\n",
            "    accuracy                           0.84       204\n",
            "   macro avg       0.85      0.84      0.84       204\n",
            "weighted avg       0.85      0.84      0.84       204\n",
            "\n"
          ]
        }
      ]
    },
    {
      "cell_type": "code",
      "source": [
        "neural_network.count_params()"
      ],
      "metadata": {
        "colab": {
          "base_uri": "https://localhost:8080/"
        },
        "id": "jZQ_qrGl5K1p",
        "outputId": "464ecc53-3484-4938-c250-79d897ab727d"
      },
      "execution_count": null,
      "outputs": [
        {
          "output_type": "execute_result",
          "data": {
            "text/plain": [
              "118"
            ]
          },
          "metadata": {},
          "execution_count": 16
        }
      ]
    },
    {
      "cell_type": "markdown",
      "source": [],
      "metadata": {
        "id": "ZepSR4_jZZa-"
      }
    }
  ]
}