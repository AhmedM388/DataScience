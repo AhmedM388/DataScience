{
  "nbformat": 4,
  "nbformat_minor": 0,
  "metadata": {
    "colab": {
      "provenance": []
    },
    "kernelspec": {
      "name": "python3",
      "display_name": "Python 3"
    },
    "language_info": {
      "name": "python"
    }
  },
  "cells": [
    {
      "cell_type": "code",
      "execution_count": 1,
      "metadata": {
        "colab": {
          "base_uri": "https://localhost:8080/"
        },
        "id": "fMqhPc_sdOZ2",
        "outputId": "e7ee6341-1f66-4803-d7c9-97a5846e4376"
      },
      "outputs": [
        {
          "output_type": "stream",
          "name": "stdout",
          "text": [
            "Downloading data from https://storage.googleapis.com/tensorflow/tf-keras-datasets/mnist.npz\n",
            "11490434/11490434 [==============================] - 0s 0us/step\n",
            "(60000, 28, 28) (60000,)\n"
          ]
        }
      ],
      "source": [
        "import keras\n",
        "from keras.datasets import mnist\n",
        "from keras.models import Sequential\n",
        "from keras.layers import Dense, Dropout, Flatten\n",
        "from keras.layers import Conv2D, MaxPooling2D\n",
        "from keras import backend as K\n",
        "\n",
        "# the data, split between train and test sets\n",
        "(x_train, y_train), (x_test, y_test) = mnist.load_data()\n",
        "\n",
        "print(x_train.shape, y_train.shape)"
      ]
    },
    {
      "cell_type": "code",
      "source": [
        "x_train = x_train.reshape(x_train.shape[0], 28, 28, 1)\n",
        "x_test = x_test.reshape(x_test.shape[0], 28, 28, 1)\n",
        "input_shape = (28, 28, 1)\n",
        "num_classes = 0\n",
        "# convert class vectors to binary class matrices\n",
        "y_train = keras.utils.to_categorical(y_train, num_classes)\n",
        "y_test = keras.utils.to_categorical(y_test, num_classes)\n",
        "\n",
        "x_train = x_train.astype('float32')\n",
        "x_test = x_test.astype('float32')\n",
        "x_train /= 255\n",
        "x_test /= 255\n",
        "print('x_train shape:', x_train.shape)\n",
        "print(x_train.shape[0], 'train samples')\n",
        "print(x_test.shape[0], 'test samples')"
      ],
      "metadata": {
        "colab": {
          "base_uri": "https://localhost:8080/"
        },
        "id": "NG-gMl0WdaEd",
        "outputId": "d1444e84-9d5b-4b69-9b63-1edd2d1eb948"
      },
      "execution_count": 3,
      "outputs": [
        {
          "output_type": "stream",
          "name": "stdout",
          "text": [
            "x_train shape: (60000, 28, 28, 1)\n",
            "60000 train samples\n",
            "10000 test samples\n"
          ]
        }
      ]
    },
    {
      "cell_type": "code",
      "source": [
        "batch_size = 128\n",
        "num_classes = 10\n",
        "epochs = 10\n",
        "\n",
        "model = Sequential()\n",
        "model.add(Conv2D(32, kernel_size=(3, 3),activation='relu',input_shape=input_shape))\n",
        "model.add(Conv2D(64, (3, 3), activation='relu'))\n",
        "model.add(MaxPooling2D(pool_size=(2, 2)))\n",
        "model.add(Dropout(0.25))\n",
        "model.add(Flatten())\n",
        "model.add(Dense(256, activation='relu'))\n",
        "model.add(Dropout(0.5))\n",
        "model.add(Dense(num_classes, activation='softmax'))\n",
        "\n",
        "model.compile(loss=keras.losses.categorical_crossentropy,optimizer=keras.optimizers.Adadelta(),metrics=['accuracy'])"
      ],
      "metadata": {
        "id": "1XuiuAgwducw"
      },
      "execution_count": 4,
      "outputs": []
    },
    {
      "cell_type": "code",
      "source": [
        "hist = model.fit(x_train, y_train,batch_size=batch_size,epochs=epochs,verbose=1,validation_data=(x_test, y_test))\n",
        "print(\"The model has successfully trained\")\n",
        "model.save('mnist.h5')\n",
        "print(\"Saving the model as mnist.h5\")"
      ],
      "metadata": {
        "colab": {
          "base_uri": "https://localhost:8080/"
        },
        "id": "DTc5cueddz8r",
        "outputId": "7ac7ef61-9352-4014-8c08-fabf5116ea9c"
      },
      "execution_count": 5,
      "outputs": [
        {
          "output_type": "stream",
          "name": "stdout",
          "text": [
            "Epoch 1/10\n",
            "469/469 [==============================] - 196s 414ms/step - loss: 2.2819 - accuracy: 0.1335 - val_loss: 2.2365 - val_accuracy: 0.3259\n",
            "Epoch 2/10\n",
            "469/469 [==============================] - 192s 410ms/step - loss: 2.2093 - accuracy: 0.2709 - val_loss: 2.1485 - val_accuracy: 0.5269\n",
            "Epoch 3/10\n",
            "469/469 [==============================] - 190s 404ms/step - loss: 2.1155 - accuracy: 0.4030 - val_loss: 2.0296 - val_accuracy: 0.6301\n",
            "Epoch 4/10\n",
            "469/469 [==============================] - 183s 391ms/step - loss: 1.9867 - accuracy: 0.5038 - val_loss: 1.8603 - val_accuracy: 0.7060\n",
            "Epoch 5/10\n",
            "469/469 [==============================] - 181s 386ms/step - loss: 1.8064 - accuracy: 0.5827 - val_loss: 1.6318 - val_accuracy: 0.7524\n",
            "Epoch 6/10\n",
            "469/469 [==============================] - 187s 400ms/step - loss: 1.5862 - accuracy: 0.6300 - val_loss: 1.3688 - val_accuracy: 0.7834\n",
            "Epoch 7/10\n",
            "469/469 [==============================] - 184s 393ms/step - loss: 1.3559 - accuracy: 0.6694 - val_loss: 1.1222 - val_accuracy: 0.8070\n",
            "Epoch 8/10\n",
            "469/469 [==============================] - 186s 397ms/step - loss: 1.1634 - accuracy: 0.6942 - val_loss: 0.9290 - val_accuracy: 0.8261\n",
            "Epoch 9/10\n",
            "469/469 [==============================] - 184s 393ms/step - loss: 1.0183 - accuracy: 0.7180 - val_loss: 0.7911 - val_accuracy: 0.8399\n",
            "Epoch 10/10\n",
            "469/469 [==============================] - 190s 404ms/step - loss: 0.9138 - accuracy: 0.7368 - val_loss: 0.6945 - val_accuracy: 0.8494\n",
            "The model has successfully trained\n",
            "Saving the model as mnist.h5\n"
          ]
        },
        {
          "output_type": "stream",
          "name": "stderr",
          "text": [
            "/usr/local/lib/python3.10/dist-packages/keras/src/engine/training.py:3103: UserWarning: You are saving your model as an HDF5 file via `model.save()`. This file format is considered legacy. We recommend using instead the native Keras format, e.g. `model.save('my_model.keras')`.\n",
            "  saving_api.save_model(\n"
          ]
        }
      ]
    },
    {
      "cell_type": "code",
      "source": [
        "score = model.evaluate(x_test, y_test, verbose=0)\n",
        "print('Test loss:', score[0])\n",
        "print('Test accuracy:', score[1])"
      ],
      "metadata": {
        "colab": {
          "base_uri": "https://localhost:8080/"
        },
        "id": "BbaF4fC4lKiW",
        "outputId": "93fadd71-e670-41ff-d199-89f4b3c4b0c4"
      },
      "execution_count": 6,
      "outputs": [
        {
          "output_type": "stream",
          "name": "stdout",
          "text": [
            "Test loss: 0.6945124268531799\n",
            "Test accuracy: 0.849399983882904\n"
          ]
        }
      ]
    }
  ]
}